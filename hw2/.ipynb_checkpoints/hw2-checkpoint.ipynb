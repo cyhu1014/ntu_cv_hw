{
 "cells": [
  {
   "cell_type": "code",
   "execution_count": 356,
   "metadata": {},
   "outputs": [
    {
     "data": {
      "text/plain": [
       "True"
      ]
     },
     "execution_count": 356,
     "metadata": {},
     "output_type": "execute_result"
    }
   ],
   "source": [
    "import cv2                                #black=0,white=255\n",
    "import numpy as np\n",
    "img = cv2.imread('lena.bmp')\n",
    "Histogram= []\n",
    "H_list = []\n",
    "for i  in range (0,256):\n",
    "    H_list.append(0)\n",
    "x= [[0 for j in range(len(img[0]))] for i in range(len(img))]\n",
    "for i in range (0,512):\n",
    "    for j in range (0,512):\n",
    "        H_list[img[i][j][0]]+=1\n",
    "        Histogram.append(img[i][j][0])\n",
    "        if(img[i][j][0]<128):\n",
    "            x[i][j]=0\n",
    "            img[i][j][0]=0\n",
    "            img[i][j][1]=0\n",
    "            img[i][j][2]=0\n",
    "        else:\n",
    "            x[i][j]=1\n",
    "            img[i][j][0]=255\n",
    "            img[i][j][1]=255\n",
    "            img[i][j][2]=255\n",
    "cv2.imwrite('lena_threshold128.jpg',img)"
   ]
  },
  {
   "cell_type": "code",
   "execution_count": 72,
   "metadata": {
    "scrolled": true
   },
   "outputs": [
    {
     "data": {
      "image/png": "[encoded data removed]",
      "text/plain": [
       "<Figure size 432x288 with 1 Axes>"
      ]
     },
     "metadata": {},
     "output_type": "display_data"
    }
   ],
   "source": [
    "import matplotlib.pyplot as plt\n",
    "plt.hist(Histogram,bins=256)\n",
    "plt.savefig('Histgram.jpg')\n",
    "plt.show()\n"
   ]
  },
  {
   "cell_type": "code",
   "execution_count": 357,
   "metadata": {},
   "outputs": [],
   "source": [
    "# iterative connected components algorithms \n",
    "def iterativeCCA (img):\n",
    "    row =len(img)\n",
    "    col = len(img[0])\n",
    "    label =  [[0 for j in range(col)] for i in range(row)]\n",
    "    \n",
    "    #initialize####\n",
    "    num = 0\n",
    "    for i in range (0,row):\n",
    "        for j in range (0,col):\n",
    "            if(img[i][j]==1):\n",
    "                num+=1\n",
    "                label[i][j]=num\n",
    "            else:\n",
    "                label[i][j]=0\n",
    "    ############initialize end\n",
    "\n",
    "    ############create label2 for neighbor check\n",
    "    num+=1\n",
    "    label2 =  [[0 for j in range(col+2)] for i in range(row+2)]\n",
    "    for i in range (0,row+2):\n",
    "        label2[0][i]=num\n",
    "    for i in range (1,row+1):\n",
    "        label2[i][0]=num\n",
    "        for j in range (1,col+1):\n",
    "            if(label[i-1][j-1]==0):\n",
    "                label2[i][j]=num\n",
    "            else:\n",
    "                label2[i][j]=label[i-1][j-1]\n",
    "        label2[i][col+1]=num\n",
    "    for i in range (0,row+2):\n",
    "        label2[row+1][i]=num        \n",
    "    change=True\n",
    "    while(change ==True):\n",
    "        change=False\n",
    "        for i in range(1,row):\n",
    "            for j in range(1,col):\n",
    "                if(label2[i][j]!=num):\n",
    "                    M=icca_min_neighbors_8connected(label2,i,j)\n",
    "                    if(label2[i][j]!=M):\n",
    "                        change=True\n",
    "                        label2[i][j]=M\n",
    "        for i in range(row,0,-1):\n",
    "            for j in range(col,0,-1):\n",
    "                if(label2[i][j]!=num):\n",
    "                    M=icca_min_neighbors_8connected(label2,i,j)\n",
    "                    if(label2[i][j]!=M):\n",
    "                        change=True\n",
    "                        label2[i][j]=M              \n",
    "    ####return label2 to label1\n",
    "    for i in range (0,row):\n",
    "        for j in range (0,col):\n",
    "            if(label2[i+1][j+1]==num):\n",
    "                label[i][j]=0\n",
    "            else:\n",
    "                label[i][j]=label2[i+1][j+1]\n",
    "    \n",
    "    return label\n",
    "                \n",
    "                \n",
    "                \n",
    "                "
   ]
  },
  {
   "cell_type": "code",
   "execution_count": 322,
   "metadata": {},
   "outputs": [],
   "source": [
    "def icca_min_neighbors_8connected(label,i,j):\n",
    "    #q=label[i-1][j-1]\n",
    "    w=label[i-1][j]\n",
    "    #e=label[i-1][j+1]\n",
    "    a=label[i][j-1]\n",
    "    s=label[i][j]\n",
    "    d=label[i][j+1]\n",
    "    #z=label[i+1][j-1]\n",
    "    x=label[i+1][j]\n",
    "    #c=label[i+1][j+1]  \n",
    "    return min(w,a,s,d,x)\n",
    "    \n",
    "    \n"
   ]
  },
  {
   "cell_type": "code",
   "execution_count": 309,
   "metadata": {
    "scrolled": true
   },
   "outputs": [],
   "source": [
    "y = [[0,1,1,0,1,1,0],[0,1,1,0,1,1,0],[0,1,1,1,1,1,0]]"
   ]
  },
  {
   "cell_type": "code",
   "execution_count": 358,
   "metadata": {},
   "outputs": [],
   "source": [
    "z= iterativeCCA (x)\n"
   ]
  },
  {
   "cell_type": "code",
   "execution_count": 311,
   "metadata": {},
   "outputs": [],
   "source": [
    "a =[[0,0,0,0,1,0],[0,1,0,0,0,1],[1,0,1,0,1,0],[0,0,0,1,1,0],[0,0,0,0,1,0],[0,1,1,0,0,0]]"
   ]
  },
  {
   "cell_type": "code",
   "execution_count": 360,
   "metadata": {
    "scrolled": true
   },
   "outputs": [],
   "source": [
    "list_num=[]\n",
    "list_num_sum=[]\n",
    "list_num_big=[]\n",
    "num=0\n",
    "num_sum=0\n",
    "for i in range (0,512):\n",
    "    for j in range (0,512):\n",
    "        same_num_flag=0\n",
    "        for k in range(0,num):\n",
    "            if(z[i][j]==list_num[k]):\n",
    "                list_num_sum[k]+=1\n",
    "                same_num_flag=1\n",
    "                break\n",
    "        if(same_num_flag==0):\n",
    "            list_num.append(z[i][j])\n",
    "            list_num_sum.append(1)\n",
    "            num+=1\n",
    "for i in range(0,num):\n",
    "    if(list_num_sum[i]>=500):\n",
    "        list_num_big.append(list_num[i])\n",
    "        num_sum+=1"
   ]
  },
  {
   "cell_type": "code",
   "execution_count": 361,
   "metadata": {},
   "outputs": [
    {
     "data": {
      "text/plain": [
       "[1, 0, 73, 26099, 66809, 107770]"
      ]
     },
     "execution_count": 361,
     "metadata": {},
     "output_type": "execute_result"
    }
   ],
   "source": [
    "list_num_big"
   ]
  },
  {
   "cell_type": "code",
   "execution_count": 431,
   "metadata": {},
   "outputs": [
    {
     "name": "stdout",
     "output_type": "stream",
     "text": [
      "[0, 0, 0, 94, 237, 399] \n",
      " [511, 511, 511, 237, 287, 511] \n",
      " [0, 0, 127, 118, 89, 0] \n",
      " [87, 511, 511, 157, 139, 31]\n"
     ]
    },
    {
     "data": {
      "image/png": "[encoded data removed]",
      "text/plain": [
       "<Figure size 432x288 with 1 Axes>"
      ]
     },
     "metadata": {},
     "output_type": "display_data"
    }
   ],
   "source": [
    "import matplotlib.pyplot as plt\n",
    "import matplotlib.patches as patches\n",
    "from PIL import Image\n",
    "import numpy as np\n",
    "im = np.array(Image.open('lena_threshold128.jpg'))\n",
    "# Create figure and axes\n",
    "fig,ax = plt.subplots(1)\n",
    "\n",
    "# Display the image\n",
    "ax.imshow(im)\n",
    "#############\n",
    "x_min=[]\n",
    "x_max=[]\n",
    "y_min=[]\n",
    "y_max=[]\n",
    "for i in range (0,len(list_num_big)):\n",
    "    \n",
    "    x_min.append(512)\n",
    "    x_max.append(0)\n",
    "    y_min.append(512)\n",
    "    y_max.append(0)\n",
    "for k in range(0,len(list_num_big)):\n",
    "  \n",
    "    for i in range (0,512):\n",
    "        for j in range(0,512):\n",
    "            if(z[i][j]==list_num_big[k]):\n",
    "                x_min[k]=min(x_min[k],i)\n",
    "                x_max[k]=max(x_max[k],i)\n",
    "                y_min[k]=min(y_min[k],j)\n",
    "                y_max[k]=max(y_max[k],j)\n",
    "print(x_min,'\\n',x_max,'\\n',y_min,'\\n',y_max)\n",
    "##########\n",
    "# Create a Rectangle patch\n",
    "for k in range(0,len(list_num_big)):\n",
    "    if(list_num_big[k]==0):\n",
    "        continue\n",
    "    r=x_max[k]-x_min[k]\n",
    "    l=y_max[k]-y_min[k]\n",
    "    rect = patches.Rectangle((y_min[k],x_min[k]),l,r,linewidth=1,edgecolor='r',facecolor='none')\n",
    "    # Add the patch to the Axes\n",
    "    ax.add_patch(rect)\n",
    "\n",
    "    # Add the patch to the Axes\n",
    "plt.show()"
   ]
  },
  {
   "cell_type": "code",
   "execution_count": 352,
   "metadata": {},
   "outputs": [
    {
     "name": "stdout",
     "output_type": "stream",
     "text": [
      "00000000000\n",
      "00000000000\n",
      "00000000000\n",
      "00000000000\n",
      "00000000000\n",
      "00000000000\n",
      "00000000000\n",
      "00000000000\n",
      "00000000000\n",
      "00000000000\n",
      "00000000000\n"
     ]
    }
   ],
   "source": [
    "for i in range (511,500,-1):\n",
    "    for j in range(511,500,-1):\n",
    "        print(img[i][j][0],end=\"\")\n",
    "    print()"
   ]
  },
  {
   "cell_type": "code",
   "execution_count": 380,
   "metadata": {},
   "outputs": [
    {
     "data": {
      "text/plain": [
       "6"
      ]
     },
     "execution_count": 380,
     "metadata": {},
     "output_type": "execute_result"
    }
   ],
   "source": [
    "len(list_num_big)"
   ]
  },
  {
   "cell_type": "code",
   "execution_count": 406,
   "metadata": {},
   "outputs": [
    {
     "name": "stdout",
     "output_type": "stream",
     "text": [
      "[0, 0, 0, 94, 237, 399] \n",
      " [511, 511, 511, 237, 287, 511] \n",
      " [0, 0, 127, 118, 89, 0] \n",
      " [87, 511, 511, 157, 139, 31]\n"
     ]
    }
   ],
   "source": [
    "x_min=[]\n",
    "x_max=[]\n",
    "y_min=[]\n",
    "y_max=[]\n",
    "for i in range (0,len(list_num_big)):\n",
    "    \n",
    "    x_min.append(512)\n",
    "    x_max.append(0)\n",
    "    y_min.append(512)\n",
    "    y_max.append(0)\n",
    "for k in range(0,len(list_num_big)):\n",
    "  \n",
    "    for i in range (0,512):\n",
    "        for j in range(0,512):\n",
    "            if(z[i][j]==list_num_big[k]):\n",
    "                x_min[k]=min(x_min[k],i)\n",
    "                x_max[k]=max(x_max[k],i)\n",
    "                y_min[k]=min(y_min[k],j)\n",
    "                y_max[k]=max(y_max[k],j)\n",
    "print(x_min,'\\n',x_max,'\\n',y_min,'\\n',y_max)\n",
    "        "
   ]
  },
  {
   "cell_type": "code",
   "execution_count": 397,
   "metadata": {},
   "outputs": [
    {
     "name": "stdout",
     "output_type": "stream",
     "text": [
      "[0, 0, 0, 0, 0]\n"
     ]
    }
   ],
   "source": []
  },
  {
   "cell_type": "code",
   "execution_count": null,
   "metadata": {},
   "outputs": [],
   "source": []
  },
  {
   "cell_type": "code",
   "execution_count": null,
   "metadata": {},
   "outputs": [],
   "source": []
  }
 ],
 "metadata": {
  "kernelspec": {
   "display_name": "Python 3",
   "language": "python",
   "name": "python3"
  },
  "language_info": {
   "codemirror_mode": {
    "name": "ipython",
    "version": 3
   },
   "file_extension": ".py",
   "mimetype": "text/x-python",
   "name": "python",
   "nbconvert_exporter": "python",
   "pygments_lexer": "ipython3",
   "version": "3.6.5"
  }
 },
 "nbformat": 4,
 "nbformat_minor": 2
}
