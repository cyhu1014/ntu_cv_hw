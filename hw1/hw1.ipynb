{
 "cells": [
  {
   "cell_type": "code",
   "execution_count": 2,
   "metadata": {},
   "outputs": [
    {
     "data": {
      "text/plain": [
       "True"
      ]
     },
     "execution_count": 2,
     "metadata": {},
     "output_type": "execute_result"
    }
   ],
   "source": [
    "import cv2\n",
    "import numpy as np\n",
    "img = cv2.imread('lena.bmp')\n",
    "img2 = cv2.imread('lena.bmp')\n",
    "img3 = cv2.imread('lena.bmp')\n",
    "##upside down\n",
    "for i in range (0,512):\n",
    "    for j in range (0,256):\n",
    "        img[i][j]=img2[i][511-j]\n",
    "        img[i][511-j]=img2[i][j]\n",
    "cv2.imwrite('lena_right-side-left.jpg',img)\n",
    "##right-side-left\n",
    "for j in range (0,512):\n",
    "    for i in range (0,256):\n",
    "        img[i][j]=img2[511-i][j]\n",
    "        img[511-i][j]=img2[i][j]\n",
    "cv2.imwrite('lena_upside-down.jpg',img)\n",
    "#diagonally-mirrored\n",
    "for i in range (0,512):\n",
    "    for j in range (0,256):\n",
    "        img3[i][j]=img[i][511-j]\n",
    "        img3[i][511-j]=img[i][j]\n",
    "cv2.imwrite('lena_diagonally-mirrored.jpg', img3)"
   ]
  },
  {
   "cell_type": "code",
   "execution_count": 6,
   "metadata": {},
   "outputs": [
    {
     "data": {
      "text/plain": [
       "44"
      ]
     },
     "execution_count": 6,
     "metadata": {},
     "output_type": "execute_result"
    }
   ],
   "source": [
    "for i in range (0,512):\n",
    "    for "
   ]
  },
  {
   "cell_type": "code",
   "execution_count": null,
   "metadata": {},
   "outputs": [],
   "source": []
  }
 ],
 "metadata": {
  "kernelspec": {
   "display_name": "Python 3",
   "language": "python",
   "name": "python3"
  },
  "language_info": {
   "codemirror_mode": {
    "name": "ipython",
    "version": 3
   },
   "file_extension": ".py",
   "mimetype": "text/x-python",
   "name": "python",
   "nbconvert_exporter": "python",
   "pygments_lexer": "ipython3",
   "version": "3.6.5"
  }
 },
 "nbformat": 4,
 "nbformat_minor": 2
}
